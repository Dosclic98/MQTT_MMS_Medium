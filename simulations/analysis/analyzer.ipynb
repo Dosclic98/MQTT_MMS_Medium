{
 "cells": [
  {
   "cell_type": "code",
   "execution_count": 5,
   "metadata": {},
   "outputs": [
    {
     "name": "stdout",
     "output_type": "stream",
     "text": [
      "['../results/MMS_MITM_Wired_Lan_Multi_Server-#1.sca', '../results/MMS_MITM_Wired_Lan_Multi_Server-#2.sca', '../results/MMS_MITM_Wired_Lan_Multi_Server-#3.sca', '../results/MMS_MITM_Wired_Lan_Multi_Server-#4.sca', '../results/MMS_MITM_Wired_Lan_Multi_Server-#5.sca', '../results/MMS_MITM_Wired_Lan_Multi_Server-#6.sca', '../results/MMS_MITM_Wired_Lan_Multi_Server-#7.sca', '../results/MMS_MITM_Wired_Lan_Multi_Server-#8.sca', '../results/MMS_MITM_Wired_Lan_Multi_Server-#9.sca']\n"
     ]
    }
   ],
   "source": [
    "import pandas as pd\n",
    "import numpy as np\n",
    "import matplotlib.pyplot as plt\n",
    "from omnetpp.scave import results, chart, utils\n",
    "\n",
    "relPath = \"../results/\"\n",
    "cliMeasNames = [\"measureReceivedAmount\", \"readSent\", \"commandSent\", \"readResponse\", \n",
    "             \"commandResponse\", \"readResponseTimeout\", \"commandResponseTimeout\"]\n",
    "evilMeasNames = [\"measureBlock\", \"measureCompromised\", \"readRequestBlock\", \"readRequestCompromised\", \n",
    "                 \"commandRequestBlock\", \"commandRequestCompromised\", \"readResponseBlock\", \"readResponseCompromised\",\n",
    "                 \"commandResponseBlock\", \"commandResponseCompromised\"]\n",
    "\n",
    "rep = 10\n",
    "fileNames = []\n",
    "\n",
    "name = \"MMS_MITM_Wired_Lan_Multi_Server\"\n",
    "for i in range(1,10):\n",
    "    fileNames.append(relPath + name + '-#' + i.__str__() + '.sca')\n",
    "\n",
    "print(fileNames)\n"
   ]
  },
  {
   "cell_type": "code",
   "execution_count": 6,
   "metadata": {},
   "outputs": [],
   "source": [
    "data = results.read_result_files(fileNames)\n",
    "scl = results.get_scalars(data)\n"
   ]
  }
 ],
 "metadata": {
  "kernelspec": {
   "display_name": "Python 3.8.10 64-bit",
   "language": "python",
   "name": "python3"
  },
  "language_info": {
   "codemirror_mode": {
    "name": "ipython",
    "version": 3
   },
   "file_extension": ".py",
   "mimetype": "text/x-python",
   "name": "python",
   "nbconvert_exporter": "python",
   "pygments_lexer": "ipython3",
   "version": "3.8.10"
  },
  "orig_nbformat": 4,
  "vscode": {
   "interpreter": {
    "hash": "e7370f93d1d0cde622a1f8e1c04877d8463912d04d973331ad4851f04de6915a"
   }
  }
 },
 "nbformat": 4,
 "nbformat_minor": 2
}
