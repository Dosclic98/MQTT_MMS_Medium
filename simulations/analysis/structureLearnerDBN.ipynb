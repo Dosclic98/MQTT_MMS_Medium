{
 "cells": [
  {
   "cell_type": "code",
   "execution_count": 24,
   "metadata": {},
   "outputs": [],
   "source": [
    "import warnings\n",
    "from causalnex.structure import StructureModel\n",
    "from causalnex.structure.dynotears import from_pandas_dynamic\n",
    "from causalnex.plots import plot_structure, NODE_STYLE, EDGE_STYLE\n",
    "from xml.etree.ElementTree import tostring\n",
    "import pandas as pd\n",
    "from IPython.display import IFrame, display, HTML\n",
    "import numpy as np\n",
    "import re\n",
    "from PIL import Image\n",
    "import networkx as nx\n",
    "import matplotlib.pyplot as plt\n",
    "import matplotlib as mpl"
   ]
  },
  {
   "cell_type": "code",
   "execution_count": 25,
   "metadata": {},
   "outputs": [],
   "source": [
    "sm = StructureModel()\n",
    "sm.add_edges_from([\n",
    "    (\"MITM\", \"UnauthCmd\"),\n",
    "    (\"MITM\", \"SpoofRepMsg\"),\n",
    "    (\"SpoofRepMsg\", \"UnstablePS\"),\n",
    "    (\"UnauthCmd\", \"UnstablePS\")\n",
    "])\n",
    "\n",
    "viz = plot_structure(\n",
    "    sm,\n",
    "    all_node_attributes=NODE_STYLE.WEAK,\n",
    "    all_edge_attributes=EDGE_STYLE.WEAK,\n",
    ")\n",
    "viz.save_graph(\"supporting_files/01_simple_plot.html\")"
   ]
  },
  {
   "cell_type": "code",
   "execution_count": 26,
   "metadata": {},
   "outputs": [],
   "source": [
    "# Load & convert df to numeric values\n",
    "df = pd.read_csv(\"outTrainBase.csv\")\n",
    "\n",
    "colList = list()\n",
    "for col in df:\n",
    "    colList.append(df[col].to_numpy())\n",
    "colSeries = pd.Series(np.array(colList).flatten()).unique()\n",
    "\n",
    "for scol in colSeries:\n",
    "    toReplace = int(re.findall(r'\\d\\d*', scol)[0])\n",
    "    df.replace(to_replace={scol: toReplace}, inplace=True)"
   ]
  },
  {
   "cell_type": "code",
   "execution_count": 27,
   "metadata": {},
   "outputs": [],
   "source": [
    "# TODO Convert df to the way \"from_pandas_dynamic\" expects it\n",
    "cols = np.array(df.columns)\n",
    "nodesList = list()\n",
    "maxSlice = 0\n",
    "\n",
    "# Convert to numeric values\n",
    "for col in cols:\n",
    "  if not re.match(r'^\\D+_\\d+$', col):\n",
    "    nodesList.append(col)\n",
    "  else:\n",
    "    slice = int(re.findall(r'\\d+', col)[0])\n",
    "    if slice > maxSlice:\n",
    "      maxSlice = slice\n",
    "\n",
    "# Convert to list of dataframes (each dataframe is a simulation run)\n",
    "dfList = list()\n",
    "for r in range(len(df)):\n",
    "  outDf = pd.DataFrame()\n",
    "  for node in nodesList:\n",
    "    nodeList = list()\n",
    "    for i in range(0, 24):\n",
    "      oldName = \"\"\n",
    "      if i == 0:\n",
    "        oldName = node\n",
    "      else:\n",
    "        oldName = node + \"_\" + str(i)\n",
    "\n",
    "      nodeList.append(df[oldName][r])\n",
    "    outDf[node] = pd.Series(nodeList)\n",
    "    dfList.append(outDf)\n"
   ]
  },
  {
   "cell_type": "code",
   "execution_count": 28,
   "metadata": {},
   "outputs": [
    {
     "name": "stdout",
     "output_type": "stream",
     "text": [
      "Started\n",
      "Ended\n"
     ]
    }
   ],
   "source": [
    "print(\"Started\")\n",
    "m = from_pandas_dynamic(dfList, p=1, lambda_w=.1,lambda_a=.1,w_threshold=.1)\n",
    "print(\"Ended\")"
   ]
  },
  {
   "cell_type": "code",
   "execution_count": 30,
   "metadata": {},
   "outputs": [
    {
     "name": "stdout",
     "output_type": "stream",
     "text": [
      "<bound method Graph.adjacency of <causalnex.structure.structuremodel.StructureModel object at 0x7fc43862bf70>>\n"
     ]
    }
   ],
   "source": [
    "\n",
    "viz = plot_structure(\n",
    "    m,\n",
    "    all_node_attributes=NODE_STYLE.WEAK,\n",
    "    all_edge_attributes=EDGE_STYLE.WEAK,\n",
    ")\n",
    "viz.save_graph(\"supporting_files/tresh-0.6.html\")"
   ]
  }
 ],
 "metadata": {
  "kernelspec": {
   "display_name": "Python 3",
   "language": "python",
   "name": "python3"
  },
  "language_info": {
   "codemirror_mode": {
    "name": "ipython",
    "version": 3
   },
   "file_extension": ".py",
   "mimetype": "text/x-python",
   "name": "python",
   "nbconvert_exporter": "python",
   "pygments_lexer": "ipython3",
   "version": "3.8.10"
  }
 },
 "nbformat": 4,
 "nbformat_minor": 2
}
