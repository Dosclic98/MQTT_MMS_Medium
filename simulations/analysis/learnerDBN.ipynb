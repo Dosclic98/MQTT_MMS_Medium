{
 "cells": [
  {
   "cell_type": "code",
   "execution_count": 15,
   "metadata": {},
   "outputs": [],
   "source": [
    "# Import libraries\n",
    "import pgmpy.models\n",
    "import pgmpy.inference\n",
    "import numpy as np\n",
    "from enum import Enum"
   ]
  },
  {
   "cell_type": "code",
   "execution_count": 27,
   "metadata": {},
   "outputs": [],
   "source": [
    "numSlices = 24\n",
    "\n",
    "class NodeNames(Enum):\n",
    "    MITM = \"MITM\"\n",
    "    SRM = \"SRM\"\n",
    "    UC = \"UC\"\n",
    "    MC = \"MC\"\n",
    "    CC = \"CC\""
   ]
  },
  {
   "cell_type": "code",
   "execution_count": 30,
   "metadata": {},
   "outputs": [
    {
     "name": "stdout",
     "output_type": "stream",
     "text": [
      "--- Edges ---\n",
      "[(<DynamicNode(MITM, 0) at 0x7f188b18b040>, <DynamicNode(MITM, 1) at 0x7f188b18beb0>), (<DynamicNode(MITM, 0) at 0x7f188b18b040>, <DynamicNode(SRM, 0) at 0x7f188b126b50>), (<DynamicNode(MITM, 0) at 0x7f188b18b040>, <DynamicNode(UC, 0) at 0x7f188b126490>), (<DynamicNode(SRM, 0) at 0x7f188b18bee0>, <DynamicNode(SRM, 1) at 0x7f188b126970>), (<DynamicNode(SRM, 0) at 0x7f188b18bee0>, <DynamicNode(UPS, 0) at 0x7f188b126910>), (<DynamicNode(UC, 0) at 0x7f188b18b190>, <DynamicNode(UC, 1) at 0x7f188b1260d0>), (<DynamicNode(UC, 0) at 0x7f188b18b190>, <DynamicNode(UPS, 0) at 0x7f188b15a640>), (<DynamicNode(UPS, 0) at 0x7f188b18b130>, <DynamicNode(UPS, 1) at 0x7f188b126bb0>), (<DynamicNode(MITM, 1) at 0x7f188b18beb0>, <DynamicNode(SRM, 1) at 0x7f188b1267c0>), (<DynamicNode(MITM, 1) at 0x7f188b18beb0>, <DynamicNode(UC, 1) at 0x7f188b126e50>), (<DynamicNode(SRM, 1) at 0x7f188b126970>, <DynamicNode(UPS, 1) at 0x7f188b126ca0>), (<DynamicNode(UC, 1) at 0x7f188b1260d0>, <DynamicNode(UPS, 1) at 0x7f188b15a790>)]\n",
      "\n"
     ]
    }
   ],
   "source": [
    "# Create a dynamic bayesian network\n",
    "model = pgmpy.models.DynamicBayesianNetwork()\n",
    "# Add nodes\n",
    "model.add_nodes_from([NodeNames.MITM.value, NodeNames.SRM.value, NodeNames.UC.value, NodeNames.UPS.value])\n",
    "# Add edges\n",
    "for i in range(0, numSlices):\n",
    "    if i != (numSlices - 1):\n",
    "        for nodeName in NodeNames:\n",
    "            model.add_edges_from([((nodeName.value, i), (nodeName.value, i+1))])\n",
    "    \n",
    "    model.add_edges_from([((NodeNames.MITM.value, i), (NodeNames.SRM.value, i)), ((NodeNames.MITM.value, i), (NodeNames.UC.value, i)),\n",
    "                          ((NodeNames.SRM.value, i), (NodeNames.UPS.value, i)), ((NodeNames.UC.value, i), (NodeNames.UPS.value, i))])\n",
    "\n",
    "# Print edges\n",
    "print('--- Edges ---')\n",
    "print(model.edges())\n",
    "print()\n",
    "            "
   ]
  },
  {
   "attachments": {},
   "cell_type": "markdown",
   "metadata": {},
   "source": [
    "PySmile Network"
   ]
  },
  {
   "cell_type": "code",
   "execution_count": 1,
   "metadata": {},
   "outputs": [],
   "source": [
    "import pysmile\n",
    "import pysmile_license\n",
    "import os"
   ]
  },
  {
   "cell_type": "code",
   "execution_count": 21,
   "metadata": {},
   "outputs": [],
   "source": [
    "DEBUG = False"
   ]
  },
  {
   "cell_type": "code",
   "execution_count": 16,
   "metadata": {},
   "outputs": [],
   "source": [
    "def print_node_info(net, node_handle):\n",
    "    print(\"Node id/name: \" + net.get_node_id(node_handle) + \"/\" +\n",
    "    net.get_node_name(node_handle))\n",
    "    print(\" Outcomes: \" + \" \".join(net.get_outcome_ids(node_handle)))\n",
    "    parent_ids = net.get_parent_ids(node_handle)\n",
    "    if len(parent_ids) > 0:\n",
    "        print(\" Parents: \" + \" \".join(parent_ids))\n",
    "    child_ids = net.get_child_ids(node_handle)\n",
    "    if len(child_ids) > 0:\n",
    "        print(\" Children: \" + \" \".join(child_ids))\n",
    "    print_cpt_matrix(net, node_handle)\n",
    "    \n",
    "def print_cpt_matrix(net, node_handle):\n",
    "    cpt = net.get_node_definition(node_handle)\n",
    "    parents = net.get_parents(node_handle)\n",
    "    dim_count = 1 + len(parents)\n",
    "    dim_sizes = [0] * dim_count\n",
    "    for i in range(0, dim_count - 1):\n",
    "        dim_sizes[i] = net.get_outcome_count(parents[i])\n",
    "    dim_sizes[len(dim_sizes) - 1] = net.get_outcome_count(node_handle)\n",
    "    coords = [0] * dim_count\n",
    "    for elem_idx in range(0, len(cpt)):\n",
    "        index_to_coords(elem_idx, dim_sizes, coords)\n",
    "        outcome = net.get_outcome_id(node_handle, coords[dim_count - 1])\n",
    "        out_str = \" P(\" + outcome\n",
    "        if dim_count > 1:\n",
    "            out_str += \" | \"\n",
    "            for parent_idx in range(0, len(parents)):\n",
    "                if parent_idx > 0:\n",
    "                    out_str += \",\"\n",
    "                parent_handle = parents[parent_idx]\n",
    "                out_str += net.get_node_id(parent_handle) + \"=\" + \\\n",
    "                net.get_outcome_id(parent_handle, coords[parent_idx])\n",
    "        prob = cpt[elem_idx]\n",
    "        out_str += \")=\" + str(prob)\n",
    "        print(out_str)\n",
    "        \n",
    "def index_to_coords(index, dim_sizes, coords):\n",
    "    prod = 1\n",
    "    for i in range(len(dim_sizes) - 1, -1, -1):\n",
    "        coords[i] = int(index / prod) % dim_sizes[i]\n",
    "        prod *= dim_sizes[i]"
   ]
  },
  {
   "cell_type": "code",
   "execution_count": 23,
   "metadata": {},
   "outputs": [
    {
     "data": {
      "text/plain": [
       "25"
      ]
     },
     "execution_count": 23,
     "metadata": {},
     "output_type": "execute_result"
    }
   ],
   "source": [
    "# Create and read the DBN from file\n",
    "net = pysmile.Network()\n",
    "net.read_file(os.getcwd() + \"/../../../Genie-DBN/DBN-MITM.xdsl\")\n",
    "\n",
    "if DEBUG:\n",
    "    for n in net.get_all_nodes():\n",
    "        print_node_info(net, n)\n",
    "    "
   ]
  }
 ],
 "metadata": {
  "kernelspec": {
   "display_name": "Python 3",
   "language": "python",
   "name": "python3"
  },
  "language_info": {
   "codemirror_mode": {
    "name": "ipython",
    "version": 3
   },
   "file_extension": ".py",
   "mimetype": "text/x-python",
   "name": "python",
   "nbconvert_exporter": "python",
   "pygments_lexer": "ipython3",
   "version": "3.8.10"
  },
  "orig_nbformat": 4,
  "vscode": {
   "interpreter": {
    "hash": "e7370f93d1d0cde622a1f8e1c04877d8463912d04d973331ad4851f04de6915a"
   }
  }
 },
 "nbformat": 4,
 "nbformat_minor": 2
}
