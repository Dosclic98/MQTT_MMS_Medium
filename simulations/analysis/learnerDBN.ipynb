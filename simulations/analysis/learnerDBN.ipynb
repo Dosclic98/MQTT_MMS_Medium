{
 "cells": [
  {
   "cell_type": "code",
   "execution_count": 15,
   "metadata": {},
   "outputs": [],
   "source": [
    "# Import libraries\n",
    "import pgmpy.models\n",
    "import pgmpy.inference\n",
    "import numpy as np\n",
    "from enum import Enum"
   ]
  },
  {
   "cell_type": "code",
   "execution_count": 27,
   "metadata": {},
   "outputs": [],
   "source": [
    "numSlices = 24\n",
    "\n",
    "class NodeNames(Enum):\n",
    "    MITM = \"MITM\"\n",
    "    SRM = \"SRM\"\n",
    "    UC = \"UC\"\n",
    "    MC = \"MC\"\n",
    "    CC = \"CC\""
   ]
  },
  {
   "cell_type": "code",
   "execution_count": 30,
   "metadata": {},
   "outputs": [
    {
     "name": "stdout",
     "output_type": "stream",
     "text": [
      "--- Edges ---\n",
      "[(<DynamicNode(MITM, 0) at 0x7f188b18b040>, <DynamicNode(MITM, 1) at 0x7f188b18beb0>), (<DynamicNode(MITM, 0) at 0x7f188b18b040>, <DynamicNode(SRM, 0) at 0x7f188b126b50>), (<DynamicNode(MITM, 0) at 0x7f188b18b040>, <DynamicNode(UC, 0) at 0x7f188b126490>), (<DynamicNode(SRM, 0) at 0x7f188b18bee0>, <DynamicNode(SRM, 1) at 0x7f188b126970>), (<DynamicNode(SRM, 0) at 0x7f188b18bee0>, <DynamicNode(UPS, 0) at 0x7f188b126910>), (<DynamicNode(UC, 0) at 0x7f188b18b190>, <DynamicNode(UC, 1) at 0x7f188b1260d0>), (<DynamicNode(UC, 0) at 0x7f188b18b190>, <DynamicNode(UPS, 0) at 0x7f188b15a640>), (<DynamicNode(UPS, 0) at 0x7f188b18b130>, <DynamicNode(UPS, 1) at 0x7f188b126bb0>), (<DynamicNode(MITM, 1) at 0x7f188b18beb0>, <DynamicNode(SRM, 1) at 0x7f188b1267c0>), (<DynamicNode(MITM, 1) at 0x7f188b18beb0>, <DynamicNode(UC, 1) at 0x7f188b126e50>), (<DynamicNode(SRM, 1) at 0x7f188b126970>, <DynamicNode(UPS, 1) at 0x7f188b126ca0>), (<DynamicNode(UC, 1) at 0x7f188b1260d0>, <DynamicNode(UPS, 1) at 0x7f188b15a790>)]\n",
      "\n"
     ]
    }
   ],
   "source": [
    "# Create a dynamic bayesian network\n",
    "model = pgmpy.models.DynamicBayesianNetwork()\n",
    "# Add nodes\n",
    "model.add_nodes_from([NodeNames.MITM.value, NodeNames.SRM.value, NodeNames.UC.value, NodeNames.UPS.value])\n",
    "# Add edges\n",
    "for i in range(0, numSlices):\n",
    "    if i != (numSlices - 1):\n",
    "        for nodeName in NodeNames:\n",
    "            model.add_edges_from([((nodeName.value, i), (nodeName.value, i+1))])\n",
    "    \n",
    "    model.add_edges_from([((NodeNames.MITM.value, i), (NodeNames.SRM.value, i)), ((NodeNames.MITM.value, i), (NodeNames.UC.value, i)),\n",
    "                          ((NodeNames.SRM.value, i), (NodeNames.UPS.value, i)), ((NodeNames.UC.value, i), (NodeNames.UPS.value, i))])\n",
    "\n",
    "# Print edges\n",
    "print('--- Edges ---')\n",
    "print(model.edges())\n",
    "print()\n",
    "            "
   ]
  }
 ],
 "metadata": {
  "kernelspec": {
   "display_name": "Python 3",
   "language": "python",
   "name": "python3"
  },
  "language_info": {
   "codemirror_mode": {
    "name": "ipython",
    "version": 3
   },
   "file_extension": ".py",
   "mimetype": "text/x-python",
   "name": "python",
   "nbconvert_exporter": "python",
   "pygments_lexer": "ipython3",
   "version": "3.8.10 (default, Nov 14 2022, 12:59:47) \n[GCC 9.4.0]"
  },
  "orig_nbformat": 4,
  "vscode": {
   "interpreter": {
    "hash": "e7370f93d1d0cde622a1f8e1c04877d8463912d04d973331ad4851f04de6915a"
   }
  }
 },
 "nbformat": 4,
 "nbformat_minor": 2
}
