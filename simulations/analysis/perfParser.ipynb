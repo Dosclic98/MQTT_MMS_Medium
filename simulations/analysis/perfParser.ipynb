{
 "cells": [
  {
   "cell_type": "code",
   "execution_count": 67,
   "metadata": {},
   "outputs": [],
   "source": [
    "import pandas as pd\n",
    "import numpy as np\n",
    "import matplotlib as mpl"
   ]
  },
  {
   "cell_type": "code",
   "execution_count": 68,
   "metadata": {},
   "outputs": [],
   "source": [
    "relPath = \"../results/\"\n",
    "#simName = \"MMS_MITM_5G_Cli_Atk_Delayed\"\n",
    "simName = \"MMS_MITM_Wired_Cli_Atk_Delayed\"\n",
    "numRuns = 50\n",
    "simTimeLimit = 120"
   ]
  },
  {
   "cell_type": "code",
   "execution_count": 69,
   "metadata": {},
   "outputs": [],
   "source": [
    "def mean(arr): \n",
    "    avg = 0;\n",
    "    t = 1;\n",
    "    for x in ary:\n",
    "        avg += (x - avg) / t;\n",
    "        t+=1;\n",
    "    \n",
    "    return avg;\n"
   ]
  },
  {
   "cell_type": "code",
   "execution_count": 70,
   "metadata": {},
   "outputs": [
    {
     "name": "stdout",
     "output_type": "stream",
     "text": [
      "Avg runtime: 0.12831854\n",
      "Std runtime: 0.011775805202549847\n",
      "##########\n",
      "Avg ev/sec: 95548.314\n",
      "Std ev/sec: 6795.922387285186\n"
     ]
    }
   ],
   "source": [
    "runTimeList = list()\n",
    "evPerSecList = list() \n",
    "for i in range(0, numRuns):\n",
    "    complPath = relPath + simName + \"-#\" + str(i) + \".out\"\n",
    "    with open(complPath) as f:\n",
    "        lines = f.readlines()\n",
    "        prevLine = \"\"\n",
    "        for line in lines:\n",
    "            if line.startswith(\"** Event\") and (\"t=\"+str(simTimeLimit)) in line:\n",
    "                #print(line)\n",
    "                words = line.split(\" \")\n",
    "                runTime = float(words[9][:-1])\n",
    "                runTimeList.append(runTime)\n",
    "                #print(runTime)\n",
    "            if prevLine.startswith(\"** Event\") and (\"t=\"+str(simTimeLimit)) in prevLine:\n",
    "                #print(line)\n",
    "                words = line.split(\" \")\n",
    "                evPerSec = float(words[10].split(\"=\")[1])\n",
    "                evPerSecList.append(evPerSec)\n",
    "                #print(evPerSec)\n",
    "            prevLine = line\n",
    "print(\"Avg runtime: \" + str(np.mean(runTimeList)))    \n",
    "print(\"Std runtime: \" + str(np.std(runTimeList)))    \n",
    "print(\"##########\")\n",
    "print(\"Avg ev/sec: \" + str(np.mean(evPerSecList)))    \n",
    "print(\"Std ev/sec: \" + str(np.std(evPerSecList)))  "
   ]
  }
 ],
 "metadata": {
  "kernelspec": {
   "display_name": "Python 3",
   "language": "python",
   "name": "python3"
  },
  "language_info": {
   "codemirror_mode": {
    "name": "ipython",
    "version": 3
   },
   "file_extension": ".py",
   "mimetype": "text/x-python",
   "name": "python",
   "nbconvert_exporter": "python",
   "pygments_lexer": "ipython3",
   "version": "3.8.10"
  },
  "orig_nbformat": 4,
  "vscode": {
   "interpreter": {
    "hash": "e7370f93d1d0cde622a1f8e1c04877d8463912d04d973331ad4851f04de6915a"
   }
  }
 },
 "nbformat": 4,
 "nbformat_minor": 2
}
