{
 "cells": [
  {
   "cell_type": "code",
   "execution_count": 64,
   "metadata": {},
   "outputs": [],
   "source": [
    "import pandas as pd\n",
    "import numpy as np\n",
    "import matplotlib as mpl"
   ]
  },
  {
   "cell_type": "code",
   "execution_count": 65,
   "metadata": {},
   "outputs": [],
   "source": [
    "relPath = \"../results/\"\n",
    "#simName = \"MMS_MITM_5G_Cli_Atk_Delayed\"\n",
    "simName = \"MMS_DoS_Wired_5G\"\n",
    "numRuns = 50\n",
    "simTimeLimit = 120"
   ]
  },
  {
   "cell_type": "code",
   "execution_count": 66,
   "metadata": {},
   "outputs": [
    {
     "name": "stdout",
     "output_type": "stream",
     "text": [
      "** Config: MMS_DoS_Wired_5G **\n",
      "Avg runtime: 12.249277999999999\n",
      "Std runtime: 1.2434125571651589\n",
      "##########\n",
      "Avg ev/sec: 134009.57599999997\n",
      "Std ev/sec: 25214.109666578035\n",
      "##########\n",
      "Avg simsec/sec: 9.624964\n",
      "Std simsec/sec: 1.809012339174059\n",
      "##########\n",
      "Avg ev/simsec: 13922.246\n",
      "Std ev/simsec: 55.61191674452522\n"
     ]
    }
   ],
   "source": [
    "runTimeList = list()\n",
    "evPerSecList = list() \n",
    "simsecSecList = list()\n",
    "evPerSimsecList = list()\n",
    "for i in range(0, numRuns):\n",
    "    complPath = relPath + simName + \"-#\" + str(i) + \".out\"\n",
    "    with open(complPath) as f:\n",
    "        lines = f.readlines()\n",
    "        prevLine = \"\"\n",
    "        for line in lines:\n",
    "            if line.startswith(\"** Event\") and (\"t=\"+str(simTimeLimit)) in line:\n",
    "                #print(line)\n",
    "                words = line.split(\" \")\n",
    "                runTime = float(words[9][:-1])\n",
    "                runTimeList.append(runTime)\n",
    "                #print(runTime)\n",
    "            if prevLine.startswith(\"** Event\") and (\"t=\"+str(simTimeLimit)) in prevLine:\n",
    "                #print(line)\n",
    "                words = line.split(\" \")\n",
    "                evPerSec = float(words[10].split(\"=\")[1])\n",
    "                evPerSecList.append(evPerSec)\n",
    "                simsecSec = float(words[13].split(\"=\")[1])\n",
    "                simsecSecList.append(simsecSec)\n",
    "                evPerSimsec = float(words[16].split(\"=\")[1])\n",
    "                evPerSimsecList.append(evPerSimsec)\n",
    "                #print(evPerSimsec)\n",
    "                #print(simsecSec)\n",
    "                #print(evPerSec)\n",
    "            prevLine = line\n",
    "print(\"** Config: \" + simName + \" **\")\n",
    "print(\"Avg runtime: \" + str(np.mean(runTimeList)))    \n",
    "print(\"Std runtime: \" + str(np.std(runTimeList)))    \n",
    "print(\"##########\")\n",
    "print(\"Avg ev/sec: \" + str(np.mean(evPerSecList)))    \n",
    "print(\"Std ev/sec: \" + str(np.std(evPerSecList)))  \n",
    "print(\"##########\")\n",
    "print(\"Avg simsec/sec: \" + str(np.mean(simsecSecList)))    \n",
    "print(\"Std simsec/sec: \" + str(np.std(simsecSecList)))  \n",
    "print(\"##########\")\n",
    "print(\"Avg ev/simsec: \" + str(np.mean(evPerSimsecList)))    \n",
    "print(\"Std ev/simsec: \" + str(np.std(evPerSimsecList)))  \n"
   ]
  }
 ],
 "metadata": {
  "kernelspec": {
   "display_name": "Python 3",
   "language": "python",
   "name": "python3"
  },
  "language_info": {
   "codemirror_mode": {
    "name": "ipython",
    "version": 3
   },
   "file_extension": ".py",
   "mimetype": "text/x-python",
   "name": "python",
   "nbconvert_exporter": "python",
   "pygments_lexer": "ipython3",
   "version": "3.8.10"
  },
  "orig_nbformat": 4,
  "vscode": {
   "interpreter": {
    "hash": "e7370f93d1d0cde622a1f8e1c04877d8463912d04d973331ad4851f04de6915a"
   }
  }
 },
 "nbformat": 4,
 "nbformat_minor": 2
}
