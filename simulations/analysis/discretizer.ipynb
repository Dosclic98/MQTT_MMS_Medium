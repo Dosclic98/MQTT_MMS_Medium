{
 "cells": [
  {
   "cell_type": "code",
   "execution_count": 59,
   "metadata": {},
   "outputs": [],
   "source": [
    "import math\n",
    "import pandas as pd\n",
    "from enum import Enum\n",
    "\n",
    "class MessageKind(Enum):\n",
    "    MEASURE = \"MEASURE\"\n",
    "    GENREQ = \"GENREQ\"\n",
    "    GENRESP = \"GENRESP\"\n",
    "    \n",
    "class ReqResKind(Enum):\n",
    "    READ = \"READ\"\n",
    "    COMMAND = \"COMMAND\"\n",
    "    UNSET = \"UNSET\"\n",
    "    \n",
    "class AtkStatus(Enum):\n",
    "    UNMOD = \"UNMOD\"\n",
    "    COMPR = \"COMPR\"\n",
    "    BLOCK = \"BLOCK\"\n",
    "    \n",
    "class EvilState(Enum):\n",
    "    INACTIVE = \"INACTIVE\"\n",
    "    MIDDLE = \"MIDDLE\"\n",
    "    FULL = \"FULL\"\n",
    "    \n",
    "evilStateToVar = {\n",
    "    EvilState.INACTIVE.value: 1,\n",
    "    EvilState.MIDDLE.value: 2,\n",
    "    EvilState.FULL.value: 3\n",
    "}\n",
    "    \n",
    "# Simulation time limit in seconds\n",
    "simTimeLimit = 120\n",
    "# Number of runs\n",
    "numRuns = 1\n",
    "# Connection index (0 for server[0] etc...)\n",
    "connIndex = 0\n",
    "# Discretization time in seconds\n",
    "deltaT = 5\n",
    "\n",
    "\n",
    "relPath = \"../logs/\"\n",
    "evilFileName = \"evilClient.app[\" + connIndex.__str__() + \"].csv\"\n",
    "cliFileName = \"client[\" + connIndex.__str__() + \"].app[0].csv\"\n",
    "serFileName = \"server[\" + connIndex.__str__() + \"].app[0].csv\"\n"
   ]
  },
  {
   "cell_type": "code",
   "execution_count": 62,
   "metadata": {},
   "outputs": [
    {
     "name": "stdout",
     "output_type": "stream",
     "text": [
      "0\n",
      "0\n",
      "0\n",
      "0\n",
      "1\n",
      "1\n",
      "1\n",
      "1\n",
      "1\n",
      "1\n",
      "1\n",
      "1\n",
      "1\n",
      "2\n",
      "2\n",
      "2\n",
      "2\n",
      "2\n",
      "2\n",
      "2\n",
      "2\n",
      "2\n",
      "2\n"
     ]
    }
   ],
   "source": [
    "for i in range(numRuns):\n",
    "    complRelPath = relPath + \"run\" + i.__str__() + \"/\"\n",
    "    evilDf = pd.read_csv(complRelPath + evilFileName)\n",
    "    evilDf = evilDf.drop(\"creationTime\", axis=1)\n",
    "    \n",
    "    currT = 0\n",
    "    MITMv = 0\n",
    "    SRMv = 0\n",
    "    UCv = 0\n",
    "    while currT < simTimeLimit:\n",
    "        evilWindowDf = evilDf[evilDf['timestamp'].between(currT, currT + deltaT, inclusive=\"left\")]\n",
    "        totNumWindow = evilWindowDf.shape[0]\n",
    "        if not evilWindowDf.empty:\n",
    "            MITMv = evilStateToVar[evilWindowDf.iloc[-1][\"evilState\"]]\n",
    "            numComprMeas = evilWindowDf[((evilWindowDf[\"messageKind\"] == MessageKind.MEASURE.value) | \n",
    "                                            (evilWindowDf[\"reqResKind\"] == ReqResKind.READ.value)) & \n",
    "                                            (evilWindowDf[\"atkStatus\"] == AtkStatus.COMPR.value)].shape[0]\n",
    "            numComprCmds = evilWindowDf[(evilWindowDf[\"reqResKind\"] == ReqResKind.COMMAND.value) & \n",
    "                                            (evilWindowDf[\"atkStatus\"] == AtkStatus.COMPR.value)].shape[0]\n",
    "            SRMv = max(math.trunc((numComprMeas/totNumWindow) * 4), SRMv)\n",
    "            UCv = max(math.trunc((numComprCmds/totNumWindow) * 4), UCv)\n",
    "            print(SRMv)\n",
    "            \n",
    "            \n",
    "            \n",
    "            \n",
    "        currT += deltaT\n"
   ]
  }
 ],
 "metadata": {
  "kernelspec": {
   "display_name": "Python 3",
   "language": "python",
   "name": "python3"
  },
  "language_info": {
   "codemirror_mode": {
    "name": "ipython",
    "version": 3
   },
   "file_extension": ".py",
   "mimetype": "text/x-python",
   "name": "python",
   "nbconvert_exporter": "python",
   "pygments_lexer": "ipython3",
   "version": "3.8.10"
  },
  "orig_nbformat": 4,
  "vscode": {
   "interpreter": {
    "hash": "e7370f93d1d0cde622a1f8e1c04877d8463912d04d973331ad4851f04de6915a"
   }
  }
 },
 "nbformat": 4,
 "nbformat_minor": 2
}
